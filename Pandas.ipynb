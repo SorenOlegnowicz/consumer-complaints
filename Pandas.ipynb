{
 "cells": [
  {
   "cell_type": "code",
   "execution_count": 1,
   "metadata": {
    "collapsed": true
   },
   "outputs": [],
   "source": [
    "import numpy as np\n",
    "import pandas as pd\n",
    "import matplotlib.pyplot as plt"
   ]
  },
  {
   "cell_type": "code",
   "execution_count": 2,
   "metadata": {
    "collapsed": true
   },
   "outputs": [],
   "source": [
    "% matplotlib inline"
   ]
  },
  {
   "cell_type": "code",
   "execution_count": 3,
   "metadata": {
    "collapsed": false
   },
   "outputs": [
    {
     "data": {
      "text/html": [
       "<div>\n",
       "<table border=\"1\" class=\"dataframe\">\n",
       "  <thead>\n",
       "    <tr style=\"text-align: right;\">\n",
       "      <th></th>\n",
       "      <th>Complaint ID</th>\n",
       "      <th>Product</th>\n",
       "      <th>Sub-product</th>\n",
       "      <th>Issue</th>\n",
       "      <th>Sub-issue</th>\n",
       "      <th>State</th>\n",
       "      <th>ZIP code</th>\n",
       "      <th>Submitted via</th>\n",
       "      <th>Date received</th>\n",
       "      <th>Date sent to company</th>\n",
       "      <th>Company</th>\n",
       "      <th>Company response</th>\n",
       "      <th>Timely response?</th>\n",
       "      <th>Consumer disputed?</th>\n",
       "    </tr>\n",
       "  </thead>\n",
       "  <tbody>\n",
       "    <tr>\n",
       "      <th>0</th>\n",
       "      <td>1177167</td>\n",
       "      <td>Debt collection</td>\n",
       "      <td>NaN</td>\n",
       "      <td>Cont'd attempts collect debt not owed</td>\n",
       "      <td>Debt is not mine</td>\n",
       "      <td>TX</td>\n",
       "      <td>77068</td>\n",
       "      <td>Web</td>\n",
       "      <td>12/31/2014</td>\n",
       "      <td>12/31/2014</td>\n",
       "      <td>Ad Astra Recovery Services Inc</td>\n",
       "      <td>Closed with explanation</td>\n",
       "      <td>Yes</td>\n",
       "      <td>NaN</td>\n",
       "    </tr>\n",
       "    <tr>\n",
       "      <th>1</th>\n",
       "      <td>1177166</td>\n",
       "      <td>Debt collection</td>\n",
       "      <td>NaN</td>\n",
       "      <td>Cont'd attempts collect debt not owed</td>\n",
       "      <td>Debt is not mine</td>\n",
       "      <td>TX</td>\n",
       "      <td>77068</td>\n",
       "      <td>Web</td>\n",
       "      <td>12/31/2014</td>\n",
       "      <td>12/31/2014</td>\n",
       "      <td>Unique Management Services, Inc</td>\n",
       "      <td>Closed with explanation</td>\n",
       "      <td>Yes</td>\n",
       "      <td>NaN</td>\n",
       "    </tr>\n",
       "    <tr>\n",
       "      <th>2</th>\n",
       "      <td>1177165</td>\n",
       "      <td>Debt collection</td>\n",
       "      <td>NaN</td>\n",
       "      <td>Cont'd attempts collect debt not owed</td>\n",
       "      <td>Debt is not mine</td>\n",
       "      <td>TX</td>\n",
       "      <td>77068</td>\n",
       "      <td>Web</td>\n",
       "      <td>12/31/2014</td>\n",
       "      <td>12/31/2014</td>\n",
       "      <td>CL Holdings, LLC</td>\n",
       "      <td>Closed with monetary relief</td>\n",
       "      <td>Yes</td>\n",
       "      <td>NaN</td>\n",
       "    </tr>\n",
       "    <tr>\n",
       "      <th>3</th>\n",
       "      <td>1177164</td>\n",
       "      <td>Debt collection</td>\n",
       "      <td>NaN</td>\n",
       "      <td>Cont'd attempts collect debt not owed</td>\n",
       "      <td>Debt is not mine</td>\n",
       "      <td>TX</td>\n",
       "      <td>77068</td>\n",
       "      <td>Web</td>\n",
       "      <td>12/31/2014</td>\n",
       "      <td>12/31/2014</td>\n",
       "      <td>Enhanced Recovery Company, LLC</td>\n",
       "      <td>Closed with non-monetary relief</td>\n",
       "      <td>Yes</td>\n",
       "      <td>NaN</td>\n",
       "    </tr>\n",
       "    <tr>\n",
       "      <th>4</th>\n",
       "      <td>1177163</td>\n",
       "      <td>Debt collection</td>\n",
       "      <td>NaN</td>\n",
       "      <td>Cont'd attempts collect debt not owed</td>\n",
       "      <td>Debt is not mine</td>\n",
       "      <td>TX</td>\n",
       "      <td>77068</td>\n",
       "      <td>Web</td>\n",
       "      <td>12/31/2014</td>\n",
       "      <td>12/31/2014</td>\n",
       "      <td>Enhanced Acquisitions, LLC</td>\n",
       "      <td>Closed with explanation</td>\n",
       "      <td>Yes</td>\n",
       "      <td>NaN</td>\n",
       "    </tr>\n",
       "  </tbody>\n",
       "</table>\n",
       "</div>"
      ],
      "text/plain": [
       "   Complaint ID          Product Sub-product  \\\n",
       "0       1177167  Debt collection         NaN   \n",
       "1       1177166  Debt collection         NaN   \n",
       "2       1177165  Debt collection         NaN   \n",
       "3       1177164  Debt collection         NaN   \n",
       "4       1177163  Debt collection         NaN   \n",
       "\n",
       "                                   Issue         Sub-issue State  ZIP code  \\\n",
       "0  Cont'd attempts collect debt not owed  Debt is not mine    TX     77068   \n",
       "1  Cont'd attempts collect debt not owed  Debt is not mine    TX     77068   \n",
       "2  Cont'd attempts collect debt not owed  Debt is not mine    TX     77068   \n",
       "3  Cont'd attempts collect debt not owed  Debt is not mine    TX     77068   \n",
       "4  Cont'd attempts collect debt not owed  Debt is not mine    TX     77068   \n",
       "\n",
       "  Submitted via Date received Date sent to company  \\\n",
       "0           Web    12/31/2014           12/31/2014   \n",
       "1           Web    12/31/2014           12/31/2014   \n",
       "2           Web    12/31/2014           12/31/2014   \n",
       "3           Web    12/31/2014           12/31/2014   \n",
       "4           Web    12/31/2014           12/31/2014   \n",
       "\n",
       "                           Company                 Company response  \\\n",
       "0   Ad Astra Recovery Services Inc          Closed with explanation   \n",
       "1  Unique Management Services, Inc          Closed with explanation   \n",
       "2                 CL Holdings, LLC      Closed with monetary relief   \n",
       "3   Enhanced Recovery Company, LLC  Closed with non-monetary relief   \n",
       "4       Enhanced Acquisitions, LLC          Closed with explanation   \n",
       "\n",
       "  Timely response? Consumer disputed?  \n",
       "0              Yes                NaN  \n",
       "1              Yes                NaN  \n",
       "2              Yes                NaN  \n",
       "3              Yes                NaN  \n",
       "4              Yes                NaN  "
      ]
     },
     "execution_count": 3,
     "metadata": {},
     "output_type": "execute_result"
    }
   ],
   "source": [
    "complaints = pd.read_csv('complaints_dec_2014.csv')\n",
    "complaints.head()"
   ]
  },
  {
   "cell_type": "markdown",
   "metadata": {},
   "source": [
    "Since every ID number is unique, the first three goals were pretty straight forward"
   ]
  },
  {
   "cell_type": "code",
   "execution_count": 7,
   "metadata": {
    "collapsed": false
   },
   "outputs": [
    {
     "data": {
      "text/plain": [
       "Mortgage                   3002\n",
       "Debt collection            2942\n",
       "Credit reporting           2113\n",
       "Bank account or service    1136\n",
       "Credit card                1100\n",
       "Consumer loan               578\n",
       "Student loan                340\n",
       "Payday loan                 141\n",
       "Money transfers             107\n",
       "Prepaid card                 70\n",
       "Other financial service      14\n",
       "dtype: int64"
      ]
     },
     "execution_count": 7,
     "metadata": {},
     "output_type": "execute_result"
    }
   ],
   "source": [
    "complaints['Product'].value_counts()"
   ]
  },
  {
   "cell_type": "code",
   "execution_count": 12,
   "metadata": {
    "collapsed": false
   },
   "outputs": [
    {
     "data": {
      "text/plain": [
       "Bank of America        766\n",
       "Equifax                737\n",
       "Experian               675\n",
       "TransUnion             604\n",
       "Wells Fargo            598\n",
       "JPMorgan Chase         545\n",
       "Ocwen                  408\n",
       "Citibank               403\n",
       "Nationstar Mortgage    357\n",
       "Capital One            252\n",
       "dtype: int64"
      ]
     },
     "execution_count": 12,
     "metadata": {},
     "output_type": "execute_result"
    }
   ],
   "source": [
    "complaints['Company'].value_counts().head(n=10)"
   ]
  },
  {
   "cell_type": "code",
   "execution_count": 14,
   "metadata": {
    "collapsed": false
   },
   "outputs": [
    {
     "data": {
      "text/plain": [
       "Closed with explanation            8185\n",
       "Closed with non-monetary relief    1253\n",
       "In progress                        1056\n",
       "Closed with monetary relief         643\n",
       "Closed                              239\n",
       "Untimely response                   167\n",
       "dtype: int64"
      ]
     },
     "execution_count": 14,
     "metadata": {},
     "output_type": "execute_result"
    }
   ],
   "source": [
    "complaints['Company response'].value_counts()"
   ]
  },
  {
   "cell_type": "markdown",
   "metadata": {},
   "source": [
    "### READERS BEWARE: \n",
    "\n",
    "Here is where I attempt the fourth requirement...\n",
    "(Hint: to no avail)"
   ]
  },
  {
   "cell_type": "code",
   "execution_count": 49,
   "metadata": {
    "collapsed": false
   },
   "outputs": [
    {
     "name": "stdout",
     "output_type": "stream",
     "text": [
      "['12/01/2014', '12/02/2014', '12/03/2014', '12/04/2014', '12/05/2014', '12/06/2014', '12/07/2014', '12/08/2014', '12/09/2014', '12/10/2014', '12/11/2014', '12/12/2014', '12/13/2014', '12/14/2014', '12/15/2014', '12/16/2014', '12/17/2014', '12/18/2014', '12/19/2014', '12/20/2014', '12/21/2014', '12/22/2014', '12/23/2014', '12/24/2014', '12/25/2014', '12/26/2014', '12/27/2014', '12/28/2014', '12/29/2014', '12/30/2014', '12/31/2014']\n"
     ]
    }
   ],
   "source": [
    "comp = complaints.sort('Date received')\n",
    "b = sorted(list(set(comp['Date received'])))\n",
    "print(b)"
   ]
  },
  {
   "cell_type": "code",
   "execution_count": 39,
   "metadata": {
    "collapsed": false
   },
   "outputs": [
    {
     "name": "stdout",
     "output_type": "stream",
     "text": [
      "<class 'pandas.core.frame.DataFrame'>\n"
     ]
    }
   ],
   "source": [
    "print(type(complaints))"
   ]
  },
  {
   "cell_type": "code",
   "execution_count": 52,
   "metadata": {
    "collapsed": false
   },
   "outputs": [],
   "source": [
    "c = list((complaints['Date received'].value_counts()))\n",
    "\n",
    "d = ['12/04/2014',\n",
    "'12/10/2014',\n",
    "'12/30/2014',\n",
    "'12/17/2014',\n",
    "'12/22/2014',\n",
    "'12/29/2014',\n",
    "'12/18/2014',\n",
    "'12/08/2014',\n",
    "'12/02/2014',\n",
    "'12/16/2014',\n",
    "'12/09/2014',\n",
    "'12/23/2014',\n",
    "'12/03/2014',\n",
    "'12/11/2014',\n",
    "'12/15/2014',\n",
    "'12/01/2014',\n",
    "'12/12/2014',\n",
    "'12/05/2014',\n",
    "'12/31/2014',\n",
    "'12/19/2014',\n",
    "'12/24/2014',\n",
    "'12/26/2014',\n",
    "'12/28/2014',\n",
    "'12/20/2014',\n",
    "'12/06/2014',\n",
    "'12/13/2014',\n",
    "'12/14/2014',\n",
    "'12/07/2014',\n",
    "'12/27/2014',\n",
    "'12/21/2014',\n",
    "'12/25/2014']"
   ]
  },
  {
   "cell_type": "code",
   "execution_count": 63,
   "metadata": {
    "collapsed": false
   },
   "outputs": [],
   "source": [
    "dates = pd.DataFrame({'Date':d,'ID number':c})#, columns=['Date', 'ID number'])\n",
    "\n"
   ]
  },
  {
   "cell_type": "code",
   "execution_count": 66,
   "metadata": {
    "collapsed": false
   },
   "outputs": [
    {
     "name": "stdout",
     "output_type": "stream",
     "text": [
      "<class 'pandas.core.frame.DataFrame'>\n"
     ]
    }
   ],
   "source": [
    "date = dates.sort('Date')"
   ]
  },
  {
   "cell_type": "code",
   "execution_count": 67,
   "metadata": {
    "collapsed": false
   },
   "outputs": [
    {
     "ename": "AttributeError",
     "evalue": "'function' object has no attribute 'loc'",
     "output_type": "error",
     "traceback": [
      "\u001b[0;31m---------------------------------------------------------------------------\u001b[0m",
      "\u001b[0;31mAttributeError\u001b[0m                            Traceback (most recent call last)",
      "\u001b[0;32m<ipython-input-67-b15def6a1b8b>\u001b[0m in \u001b[0;36m<module>\u001b[0;34m()\u001b[0m\n\u001b[0;32m----> 1\u001b[0;31m \u001b[0mdate\u001b[0m\u001b[0;34m.\u001b[0m\u001b[0mloc\u001b[0m\u001b[0;34m[\u001b[0m\u001b[0;34m:\u001b[0m\u001b[0;34m:\u001b[0m\u001b[0;36m2\u001b[0m\u001b[0;34m,\u001b[0m \u001b[0;34m:\u001b[0m\u001b[0;34m]\u001b[0m\u001b[0;34m\u001b[0m\u001b[0m\n\u001b[0m",
      "\u001b[0;31mAttributeError\u001b[0m: 'function' object has no attribute 'loc'"
     ]
    }
   ],
   "source": [
    "date.loc[::2, :]"
   ]
  },
  {
   "cell_type": "code",
   "execution_count": 8,
   "metadata": {
    "collapsed": false,
    "scrolled": true
   },
   "outputs": [],
   "source": [
    "com = complaints.sort(\"Product\")\n",
    "o_ID = com.pop('Product')"
   ]
  },
  {
   "cell_type": "code",
   "execution_count": 10,
   "metadata": {
    "collapsed": false
   },
   "outputs": [
    {
     "data": {
      "text/html": [
       "<div>\n",
       "<table border=\"1\" class=\"dataframe\">\n",
       "  <thead>\n",
       "    <tr style=\"text-align: right;\">\n",
       "      <th></th>\n",
       "      <th>Complaint ID</th>\n",
       "      <th>Product</th>\n",
       "      <th>Sub-product</th>\n",
       "      <th>Issue</th>\n",
       "      <th>Sub-issue</th>\n",
       "      <th>State</th>\n",
       "      <th>ZIP code</th>\n",
       "      <th>Submitted via</th>\n",
       "      <th>Date received</th>\n",
       "      <th>Date sent to company</th>\n",
       "      <th>Company</th>\n",
       "      <th>Company response</th>\n",
       "      <th>Timely response?</th>\n",
       "      <th>Consumer disputed?</th>\n",
       "    </tr>\n",
       "    <tr>\n",
       "      <th>Product</th>\n",
       "      <th></th>\n",
       "      <th></th>\n",
       "      <th></th>\n",
       "      <th></th>\n",
       "      <th></th>\n",
       "      <th></th>\n",
       "      <th></th>\n",
       "      <th></th>\n",
       "      <th></th>\n",
       "      <th></th>\n",
       "      <th></th>\n",
       "      <th></th>\n",
       "      <th></th>\n",
       "      <th></th>\n",
       "    </tr>\n",
       "  </thead>\n",
       "  <tbody>\n",
       "    <tr>\n",
       "      <th>Bank account or service</th>\n",
       "      <td>1177167</td>\n",
       "      <td>Debt collection</td>\n",
       "      <td>NaN</td>\n",
       "      <td>Cont'd attempts collect debt not owed</td>\n",
       "      <td>Debt is not mine</td>\n",
       "      <td>TX</td>\n",
       "      <td>77068</td>\n",
       "      <td>Web</td>\n",
       "      <td>12/31/2014</td>\n",
       "      <td>12/31/2014</td>\n",
       "      <td>Ad Astra Recovery Services Inc</td>\n",
       "      <td>Closed with explanation</td>\n",
       "      <td>Yes</td>\n",
       "      <td>NaN</td>\n",
       "    </tr>\n",
       "    <tr>\n",
       "      <th>Bank account or service</th>\n",
       "      <td>1177166</td>\n",
       "      <td>Debt collection</td>\n",
       "      <td>NaN</td>\n",
       "      <td>Cont'd attempts collect debt not owed</td>\n",
       "      <td>Debt is not mine</td>\n",
       "      <td>TX</td>\n",
       "      <td>77068</td>\n",
       "      <td>Web</td>\n",
       "      <td>12/31/2014</td>\n",
       "      <td>12/31/2014</td>\n",
       "      <td>Unique Management Services, Inc</td>\n",
       "      <td>Closed with explanation</td>\n",
       "      <td>Yes</td>\n",
       "      <td>NaN</td>\n",
       "    </tr>\n",
       "    <tr>\n",
       "      <th>Bank account or service</th>\n",
       "      <td>1177165</td>\n",
       "      <td>Debt collection</td>\n",
       "      <td>NaN</td>\n",
       "      <td>Cont'd attempts collect debt not owed</td>\n",
       "      <td>Debt is not mine</td>\n",
       "      <td>TX</td>\n",
       "      <td>77068</td>\n",
       "      <td>Web</td>\n",
       "      <td>12/31/2014</td>\n",
       "      <td>12/31/2014</td>\n",
       "      <td>CL Holdings, LLC</td>\n",
       "      <td>Closed with monetary relief</td>\n",
       "      <td>Yes</td>\n",
       "      <td>NaN</td>\n",
       "    </tr>\n",
       "    <tr>\n",
       "      <th>Bank account or service</th>\n",
       "      <td>1177164</td>\n",
       "      <td>Debt collection</td>\n",
       "      <td>NaN</td>\n",
       "      <td>Cont'd attempts collect debt not owed</td>\n",
       "      <td>Debt is not mine</td>\n",
       "      <td>TX</td>\n",
       "      <td>77068</td>\n",
       "      <td>Web</td>\n",
       "      <td>12/31/2014</td>\n",
       "      <td>12/31/2014</td>\n",
       "      <td>Enhanced Recovery Company, LLC</td>\n",
       "      <td>Closed with non-monetary relief</td>\n",
       "      <td>Yes</td>\n",
       "      <td>NaN</td>\n",
       "    </tr>\n",
       "    <tr>\n",
       "      <th>Bank account or service</th>\n",
       "      <td>1177163</td>\n",
       "      <td>Debt collection</td>\n",
       "      <td>NaN</td>\n",
       "      <td>Cont'd attempts collect debt not owed</td>\n",
       "      <td>Debt is not mine</td>\n",
       "      <td>TX</td>\n",
       "      <td>77068</td>\n",
       "      <td>Web</td>\n",
       "      <td>12/31/2014</td>\n",
       "      <td>12/31/2014</td>\n",
       "      <td>Enhanced Acquisitions, LLC</td>\n",
       "      <td>Closed with explanation</td>\n",
       "      <td>Yes</td>\n",
       "      <td>NaN</td>\n",
       "    </tr>\n",
       "  </tbody>\n",
       "</table>\n",
       "</div>"
      ],
      "text/plain": [
       "                         Complaint ID          Product Sub-product  \\\n",
       "Product                                                              \n",
       "Bank account or service       1177167  Debt collection         NaN   \n",
       "Bank account or service       1177166  Debt collection         NaN   \n",
       "Bank account or service       1177165  Debt collection         NaN   \n",
       "Bank account or service       1177164  Debt collection         NaN   \n",
       "Bank account or service       1177163  Debt collection         NaN   \n",
       "\n",
       "                                                         Issue  \\\n",
       "Product                                                          \n",
       "Bank account or service  Cont'd attempts collect debt not owed   \n",
       "Bank account or service  Cont'd attempts collect debt not owed   \n",
       "Bank account or service  Cont'd attempts collect debt not owed   \n",
       "Bank account or service  Cont'd attempts collect debt not owed   \n",
       "Bank account or service  Cont'd attempts collect debt not owed   \n",
       "\n",
       "                                Sub-issue State  ZIP code Submitted via  \\\n",
       "Product                                                                   \n",
       "Bank account or service  Debt is not mine    TX     77068           Web   \n",
       "Bank account or service  Debt is not mine    TX     77068           Web   \n",
       "Bank account or service  Debt is not mine    TX     77068           Web   \n",
       "Bank account or service  Debt is not mine    TX     77068           Web   \n",
       "Bank account or service  Debt is not mine    TX     77068           Web   \n",
       "\n",
       "                        Date received Date sent to company  \\\n",
       "Product                                                      \n",
       "Bank account or service    12/31/2014           12/31/2014   \n",
       "Bank account or service    12/31/2014           12/31/2014   \n",
       "Bank account or service    12/31/2014           12/31/2014   \n",
       "Bank account or service    12/31/2014           12/31/2014   \n",
       "Bank account or service    12/31/2014           12/31/2014   \n",
       "\n",
       "                                                 Company  \\\n",
       "Product                                                    \n",
       "Bank account or service   Ad Astra Recovery Services Inc   \n",
       "Bank account or service  Unique Management Services, Inc   \n",
       "Bank account or service                 CL Holdings, LLC   \n",
       "Bank account or service   Enhanced Recovery Company, LLC   \n",
       "Bank account or service       Enhanced Acquisitions, LLC   \n",
       "\n",
       "                                        Company response Timely response?  \\\n",
       "Product                                                                     \n",
       "Bank account or service          Closed with explanation              Yes   \n",
       "Bank account or service          Closed with explanation              Yes   \n",
       "Bank account or service      Closed with monetary relief              Yes   \n",
       "Bank account or service  Closed with non-monetary relief              Yes   \n",
       "Bank account or service          Closed with explanation              Yes   \n",
       "\n",
       "                        Consumer disputed?  \n",
       "Product                                     \n",
       "Bank account or service                NaN  \n",
       "Bank account or service                NaN  \n",
       "Bank account or service                NaN  \n",
       "Bank account or service                NaN  \n",
       "Bank account or service                NaN  "
      ]
     },
     "execution_count": 10,
     "metadata": {},
     "output_type": "execute_result"
    }
   ],
   "source": [
    "complaints.index = o_ID\n",
    "complaints.head()"
   ]
  },
  {
   "cell_type": "code",
   "execution_count": 16,
   "metadata": {
    "collapsed": false
   },
   "outputs": [
    {
     "name": "stdout",
     "output_type": "stream",
     "text": [
      "11543\n"
     ]
    },
    {
     "data": {
      "text/plain": [
       "<bound method Series.count of Product\n",
       "Bank account or service            Debt collection\n",
       "Bank account or service            Debt collection\n",
       "Bank account or service            Debt collection\n",
       "Bank account or service            Debt collection\n",
       "Bank account or service            Debt collection\n",
       "Bank account or service            Debt collection\n",
       "Bank account or service                Credit card\n",
       "Bank account or service            Debt collection\n",
       "Bank account or service            Debt collection\n",
       "Bank account or service            Debt collection\n",
       "Bank account or service            Debt collection\n",
       "Bank account or service    Bank account or service\n",
       "Bank account or service            Debt collection\n",
       "Bank account or service            Debt collection\n",
       "Bank account or service            Debt collection\n",
       "Bank account or service            Debt collection\n",
       "Bank account or service           Credit reporting\n",
       "Bank account or service            Debt collection\n",
       "Bank account or service            Debt collection\n",
       "Bank account or service                Credit card\n",
       "Bank account or service    Bank account or service\n",
       "Bank account or service           Credit reporting\n",
       "Bank account or service           Credit reporting\n",
       "Bank account or service                   Mortgage\n",
       "Bank account or service                   Mortgage\n",
       "Bank account or service                   Mortgage\n",
       "Bank account or service            Money transfers\n",
       "Bank account or service    Bank account or service\n",
       "Bank account or service    Bank account or service\n",
       "Bank account or service            Debt collection\n",
       "                                    ...           \n",
       "Student loan                              Mortgage\n",
       "Student loan                      Credit reporting\n",
       "Student loan                      Credit reporting\n",
       "Student loan                      Credit reporting\n",
       "Student loan                       Debt collection\n",
       "Student loan                              Mortgage\n",
       "Student loan                              Mortgage\n",
       "Student loan                      Credit reporting\n",
       "Student loan                      Credit reporting\n",
       "Student loan                      Credit reporting\n",
       "Student loan                              Mortgage\n",
       "Student loan                       Debt collection\n",
       "Student loan                           Credit card\n",
       "Student loan                       Debt collection\n",
       "Student loan                      Credit reporting\n",
       "Student loan                      Credit reporting\n",
       "Student loan                      Credit reporting\n",
       "Student loan                              Mortgage\n",
       "Student loan                           Credit card\n",
       "Student loan                           Credit card\n",
       "Student loan                         Consumer loan\n",
       "Student loan                              Mortgage\n",
       "Student loan                       Debt collection\n",
       "Student loan                       Debt collection\n",
       "Student loan                      Credit reporting\n",
       "Student loan                              Mortgage\n",
       "Student loan                              Mortgage\n",
       "Student loan                              Mortgage\n",
       "Student loan                              Mortgage\n",
       "Student loan                              Mortgage\n",
       "Name: Product, dtype: object>"
      ]
     },
     "execution_count": 16,
     "metadata": {},
     "output_type": "execute_result"
    }
   ],
   "source": [
    "names_index = list(set(complaints.loc[:, 'Complaint ID']))\n",
    "print(len(names_index))\n",
    "complaints['Product'].count"
   ]
  },
  {
   "cell_type": "code",
   "execution_count": 6,
   "metadata": {
    "collapsed": false
   },
   "outputs": [],
   "source": [
    "ID = complaints.pop('Complaint ID')\n"
   ]
  },
  {
   "cell_type": "code",
   "execution_count": 7,
   "metadata": {
    "collapsed": false
   },
   "outputs": [
    {
     "data": {
      "text/html": [
       "<div>\n",
       "<table border=\"1\" class=\"dataframe\">\n",
       "  <thead>\n",
       "    <tr style=\"text-align: right;\">\n",
       "      <th></th>\n",
       "      <th>Product</th>\n",
       "      <th>Sub-product</th>\n",
       "      <th>Issue</th>\n",
       "      <th>Sub-issue</th>\n",
       "      <th>State</th>\n",
       "      <th>ZIP code</th>\n",
       "      <th>Submitted via</th>\n",
       "      <th>Date received</th>\n",
       "      <th>Date sent to company</th>\n",
       "      <th>Company</th>\n",
       "      <th>Company response</th>\n",
       "      <th>Timely response?</th>\n",
       "      <th>Consumer disputed?</th>\n",
       "    </tr>\n",
       "    <tr>\n",
       "      <th>Complaint ID</th>\n",
       "      <th></th>\n",
       "      <th></th>\n",
       "      <th></th>\n",
       "      <th></th>\n",
       "      <th></th>\n",
       "      <th></th>\n",
       "      <th></th>\n",
       "      <th></th>\n",
       "      <th></th>\n",
       "      <th></th>\n",
       "      <th></th>\n",
       "      <th></th>\n",
       "      <th></th>\n",
       "    </tr>\n",
       "  </thead>\n",
       "  <tbody>\n",
       "    <tr>\n",
       "      <th>1177167</th>\n",
       "      <td>Debt collection</td>\n",
       "      <td>NaN</td>\n",
       "      <td>Cont'd attempts collect debt not owed</td>\n",
       "      <td>Debt is not mine</td>\n",
       "      <td>TX</td>\n",
       "      <td>77068</td>\n",
       "      <td>Web</td>\n",
       "      <td>12/31/2014</td>\n",
       "      <td>12/31/2014</td>\n",
       "      <td>Ad Astra Recovery Services Inc</td>\n",
       "      <td>Closed with explanation</td>\n",
       "      <td>Yes</td>\n",
       "      <td>NaN</td>\n",
       "    </tr>\n",
       "    <tr>\n",
       "      <th>1177166</th>\n",
       "      <td>Debt collection</td>\n",
       "      <td>NaN</td>\n",
       "      <td>Cont'd attempts collect debt not owed</td>\n",
       "      <td>Debt is not mine</td>\n",
       "      <td>TX</td>\n",
       "      <td>77068</td>\n",
       "      <td>Web</td>\n",
       "      <td>12/31/2014</td>\n",
       "      <td>12/31/2014</td>\n",
       "      <td>Unique Management Services, Inc</td>\n",
       "      <td>Closed with explanation</td>\n",
       "      <td>Yes</td>\n",
       "      <td>NaN</td>\n",
       "    </tr>\n",
       "    <tr>\n",
       "      <th>1177165</th>\n",
       "      <td>Debt collection</td>\n",
       "      <td>NaN</td>\n",
       "      <td>Cont'd attempts collect debt not owed</td>\n",
       "      <td>Debt is not mine</td>\n",
       "      <td>TX</td>\n",
       "      <td>77068</td>\n",
       "      <td>Web</td>\n",
       "      <td>12/31/2014</td>\n",
       "      <td>12/31/2014</td>\n",
       "      <td>CL Holdings, LLC</td>\n",
       "      <td>Closed with monetary relief</td>\n",
       "      <td>Yes</td>\n",
       "      <td>NaN</td>\n",
       "    </tr>\n",
       "    <tr>\n",
       "      <th>1177164</th>\n",
       "      <td>Debt collection</td>\n",
       "      <td>NaN</td>\n",
       "      <td>Cont'd attempts collect debt not owed</td>\n",
       "      <td>Debt is not mine</td>\n",
       "      <td>TX</td>\n",
       "      <td>77068</td>\n",
       "      <td>Web</td>\n",
       "      <td>12/31/2014</td>\n",
       "      <td>12/31/2014</td>\n",
       "      <td>Enhanced Recovery Company, LLC</td>\n",
       "      <td>Closed with non-monetary relief</td>\n",
       "      <td>Yes</td>\n",
       "      <td>NaN</td>\n",
       "    </tr>\n",
       "    <tr>\n",
       "      <th>1177163</th>\n",
       "      <td>Debt collection</td>\n",
       "      <td>NaN</td>\n",
       "      <td>Cont'd attempts collect debt not owed</td>\n",
       "      <td>Debt is not mine</td>\n",
       "      <td>TX</td>\n",
       "      <td>77068</td>\n",
       "      <td>Web</td>\n",
       "      <td>12/31/2014</td>\n",
       "      <td>12/31/2014</td>\n",
       "      <td>Enhanced Acquisitions, LLC</td>\n",
       "      <td>Closed with explanation</td>\n",
       "      <td>Yes</td>\n",
       "      <td>NaN</td>\n",
       "    </tr>\n",
       "  </tbody>\n",
       "</table>\n",
       "</div>"
      ],
      "text/plain": [
       "                      Product Sub-product  \\\n",
       "Complaint ID                                \n",
       "1177167       Debt collection         NaN   \n",
       "1177166       Debt collection         NaN   \n",
       "1177165       Debt collection         NaN   \n",
       "1177164       Debt collection         NaN   \n",
       "1177163       Debt collection         NaN   \n",
       "\n",
       "                                              Issue         Sub-issue State  \\\n",
       "Complaint ID                                                                  \n",
       "1177167       Cont'd attempts collect debt not owed  Debt is not mine    TX   \n",
       "1177166       Cont'd attempts collect debt not owed  Debt is not mine    TX   \n",
       "1177165       Cont'd attempts collect debt not owed  Debt is not mine    TX   \n",
       "1177164       Cont'd attempts collect debt not owed  Debt is not mine    TX   \n",
       "1177163       Cont'd attempts collect debt not owed  Debt is not mine    TX   \n",
       "\n",
       "              ZIP code Submitted via Date received Date sent to company  \\\n",
       "Complaint ID                                                              \n",
       "1177167          77068           Web    12/31/2014           12/31/2014   \n",
       "1177166          77068           Web    12/31/2014           12/31/2014   \n",
       "1177165          77068           Web    12/31/2014           12/31/2014   \n",
       "1177164          77068           Web    12/31/2014           12/31/2014   \n",
       "1177163          77068           Web    12/31/2014           12/31/2014   \n",
       "\n",
       "                                      Company  \\\n",
       "Complaint ID                                    \n",
       "1177167        Ad Astra Recovery Services Inc   \n",
       "1177166       Unique Management Services, Inc   \n",
       "1177165                      CL Holdings, LLC   \n",
       "1177164        Enhanced Recovery Company, LLC   \n",
       "1177163            Enhanced Acquisitions, LLC   \n",
       "\n",
       "                             Company response Timely response?  \\\n",
       "Complaint ID                                                     \n",
       "1177167               Closed with explanation              Yes   \n",
       "1177166               Closed with explanation              Yes   \n",
       "1177165           Closed with monetary relief              Yes   \n",
       "1177164       Closed with non-monetary relief              Yes   \n",
       "1177163               Closed with explanation              Yes   \n",
       "\n",
       "             Consumer disputed?  \n",
       "Complaint ID                     \n",
       "1177167                     NaN  \n",
       "1177166                     NaN  \n",
       "1177165                     NaN  \n",
       "1177164                     NaN  \n",
       "1177163                     NaN  "
      ]
     },
     "execution_count": 7,
     "metadata": {},
     "output_type": "execute_result"
    }
   ],
   "source": [
    "complaints.index = ID\n",
    "complaints.head()\n",
    "complaints.tail()"
   ]
  },
  {
   "cell_type": "code",
   "execution_count": 9,
   "metadata": {
    "collapsed": false
   },
   "outputs": [
    {
     "data": {
      "text/html": [
       "<div>\n",
       "<table border=\"1\" class=\"dataframe\">\n",
       "  <thead>\n",
       "    <tr style=\"text-align: right;\">\n",
       "      <th></th>\n",
       "      <th>Product</th>\n",
       "      <th>Sub-product</th>\n",
       "      <th>Issue</th>\n",
       "      <th>Sub-issue</th>\n",
       "      <th>State</th>\n",
       "      <th>ZIP code</th>\n",
       "      <th>Submitted via</th>\n",
       "      <th>Date received</th>\n",
       "      <th>Date sent to company</th>\n",
       "      <th>Company</th>\n",
       "      <th>Company response</th>\n",
       "      <th>Timely response?</th>\n",
       "      <th>Consumer disputed?</th>\n",
       "    </tr>\n",
       "    <tr>\n",
       "      <th>Complaint ID</th>\n",
       "      <th></th>\n",
       "      <th></th>\n",
       "      <th></th>\n",
       "      <th></th>\n",
       "      <th></th>\n",
       "      <th></th>\n",
       "      <th></th>\n",
       "      <th></th>\n",
       "      <th></th>\n",
       "      <th></th>\n",
       "      <th></th>\n",
       "      <th></th>\n",
       "      <th></th>\n",
       "    </tr>\n",
       "  </thead>\n",
       "  <tbody>\n",
       "    <tr>\n",
       "      <th>1136172</th>\n",
       "      <td>Mortgage</td>\n",
       "      <td>Conventional fixed mortgage</td>\n",
       "      <td>Loan servicing, payments, escrow account</td>\n",
       "      <td>NaN</td>\n",
       "      <td>LA</td>\n",
       "      <td>70452</td>\n",
       "      <td>Web</td>\n",
       "      <td>12/01/2014</td>\n",
       "      <td>12/05/2014</td>\n",
       "      <td>Servis One, Inc.</td>\n",
       "      <td>Closed with explanation</td>\n",
       "      <td>No</td>\n",
       "      <td>NaN</td>\n",
       "    </tr>\n",
       "    <tr>\n",
       "      <th>1136170</th>\n",
       "      <td>Mortgage</td>\n",
       "      <td>FHA mortgage</td>\n",
       "      <td>Credit decision / Underwriting</td>\n",
       "      <td>NaN</td>\n",
       "      <td>NaN</td>\n",
       "      <td>74432</td>\n",
       "      <td>Web</td>\n",
       "      <td>12/01/2014</td>\n",
       "      <td>12/01/2014</td>\n",
       "      <td>Experian</td>\n",
       "      <td>Closed with explanation</td>\n",
       "      <td>Yes</td>\n",
       "      <td>NaN</td>\n",
       "    </tr>\n",
       "    <tr>\n",
       "      <th>1136169</th>\n",
       "      <td>Mortgage</td>\n",
       "      <td>FHA mortgage</td>\n",
       "      <td>Credit decision / Underwriting</td>\n",
       "      <td>NaN</td>\n",
       "      <td>NaN</td>\n",
       "      <td>74432</td>\n",
       "      <td>Web</td>\n",
       "      <td>12/01/2014</td>\n",
       "      <td>12/01/2014</td>\n",
       "      <td>TransUnion</td>\n",
       "      <td>Closed with non-monetary relief</td>\n",
       "      <td>Yes</td>\n",
       "      <td>NaN</td>\n",
       "    </tr>\n",
       "    <tr>\n",
       "      <th>1136162</th>\n",
       "      <td>Mortgage</td>\n",
       "      <td>Other mortgage</td>\n",
       "      <td>Loan modification,collection,foreclosure</td>\n",
       "      <td>NaN</td>\n",
       "      <td>MI</td>\n",
       "      <td>48382</td>\n",
       "      <td>Fax</td>\n",
       "      <td>12/01/2014</td>\n",
       "      <td>12/05/2014</td>\n",
       "      <td>Citibank</td>\n",
       "      <td>Closed with explanation</td>\n",
       "      <td>Yes</td>\n",
       "      <td>NaN</td>\n",
       "    </tr>\n",
       "    <tr>\n",
       "      <th>1136158</th>\n",
       "      <td>Mortgage</td>\n",
       "      <td>FHA mortgage</td>\n",
       "      <td>Loan modification,collection,foreclosure</td>\n",
       "      <td>NaN</td>\n",
       "      <td>IL</td>\n",
       "      <td>60148</td>\n",
       "      <td>Web</td>\n",
       "      <td>12/01/2014</td>\n",
       "      <td>12/01/2014</td>\n",
       "      <td>Nationstar Mortgage</td>\n",
       "      <td>Closed with explanation</td>\n",
       "      <td>Yes</td>\n",
       "      <td>NaN</td>\n",
       "    </tr>\n",
       "  </tbody>\n",
       "</table>\n",
       "</div>"
      ],
      "text/plain": [
       "               Product                  Sub-product  \\\n",
       "Complaint ID                                          \n",
       "1136172       Mortgage  Conventional fixed mortgage   \n",
       "1136170       Mortgage                 FHA mortgage   \n",
       "1136169       Mortgage                 FHA mortgage   \n",
       "1136162       Mortgage               Other mortgage   \n",
       "1136158       Mortgage                 FHA mortgage   \n",
       "\n",
       "                                                 Issue Sub-issue State  \\\n",
       "Complaint ID                                                             \n",
       "1136172       Loan servicing, payments, escrow account       NaN    LA   \n",
       "1136170                 Credit decision / Underwriting       NaN   NaN   \n",
       "1136169                 Credit decision / Underwriting       NaN   NaN   \n",
       "1136162       Loan modification,collection,foreclosure       NaN    MI   \n",
       "1136158       Loan modification,collection,foreclosure       NaN    IL   \n",
       "\n",
       "              ZIP code Submitted via Date received Date sent to company  \\\n",
       "Complaint ID                                                              \n",
       "1136172          70452           Web    12/01/2014           12/05/2014   \n",
       "1136170          74432           Web    12/01/2014           12/01/2014   \n",
       "1136169          74432           Web    12/01/2014           12/01/2014   \n",
       "1136162          48382           Fax    12/01/2014           12/05/2014   \n",
       "1136158          60148           Web    12/01/2014           12/01/2014   \n",
       "\n",
       "                          Company                 Company response  \\\n",
       "Complaint ID                                                         \n",
       "1136172          Servis One, Inc.          Closed with explanation   \n",
       "1136170                  Experian          Closed with explanation   \n",
       "1136169                TransUnion  Closed with non-monetary relief   \n",
       "1136162                  Citibank          Closed with explanation   \n",
       "1136158       Nationstar Mortgage          Closed with explanation   \n",
       "\n",
       "             Timely response? Consumer disputed?  \n",
       "Complaint ID                                      \n",
       "1136172                    No                NaN  \n",
       "1136170                   Yes                NaN  \n",
       "1136169                   Yes                NaN  \n",
       "1136162                   Yes                NaN  \n",
       "1136158                   Yes                NaN  "
      ]
     },
     "execution_count": 9,
     "metadata": {},
     "output_type": "execute_result"
    }
   ],
   "source": [
    "complaints.tail()"
   ]
  },
  {
   "cell_type": "code",
   "execution_count": 13,
   "metadata": {
    "collapsed": false
   },
   "outputs": [
    {
     "name": "stdout",
     "output_type": "stream",
     "text": [
      "Help on method count in module pandas.core.frame:\n",
      "\n",
      "count(axis=0, level=None, numeric_only=False) method of pandas.core.frame.DataFrame instance\n",
      "    Return Series with number of non-NA/null observations over requested\n",
      "    axis. Works with non-floating point data as well (detects NaN and None)\n",
      "    \n",
      "    Parameters\n",
      "    ----------\n",
      "    axis : {0 or 'index', 1 or 'columns'}, default 0\n",
      "        0 or 'index' for row-wise, 1 or 'columns' for column-wise\n",
      "    level : int or level name, default None\n",
      "        If the axis is a MultiIndex (hierarchical), count along a\n",
      "        particular level, collapsing into a DataFrame\n",
      "    numeric_only : boolean, default False\n",
      "        Include only float, int, boolean data\n",
      "    \n",
      "    Returns\n",
      "    -------\n",
      "    count : Series (or DataFrame if level specified)\n",
      "\n"
     ]
    }
   ],
   "source": [
    "help(complaints.count)"
   ]
  },
  {
   "cell_type": "code",
   "execution_count": null,
   "metadata": {
    "collapsed": true
   },
   "outputs": [],
   "source": []
  }
 ],
 "metadata": {
  "kernelspec": {
   "display_name": "Python 3",
   "language": "python",
   "name": "python3"
  },
  "language_info": {
   "codemirror_mode": {
    "name": "ipython",
    "version": 3
   },
   "file_extension": ".py",
   "mimetype": "text/x-python",
   "name": "python",
   "nbconvert_exporter": "python",
   "pygments_lexer": "ipython3",
   "version": "3.4.3"
  }
 },
 "nbformat": 4,
 "nbformat_minor": 0
}
